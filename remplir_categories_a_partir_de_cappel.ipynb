{
 "cells": [
  {
   "cell_type": "code",
   "execution_count": 3,
   "metadata": {},
   "outputs": [],
   "source": [
    "import sqlite3\n",
    "cxn = sqlite3.connect(\"/home/mok/mining/jugements/cappel-mcgill/cappel.sqlite\")\n",
    "cs = cxn.cursor()"
   ]
  },
  {
   "cell_type": "code",
   "execution_count": 6,
   "metadata": {},
   "outputs": [],
   "source": [
    "tags = []\n",
    "for i, in cs.execute(\"select Indexation from jugements where lang='fr'\").fetchall():\n",
    "    tags+= [j. strip() for j in i.upper().split(\";\")]"
   ]
  },
  {
   "cell_type": "code",
   "execution_count": 7,
   "metadata": {},
   "outputs": [],
   "source": [
    "from collections import Counter\n",
    "tags = Counter(tags)"
   ]
  },
  {
   "cell_type": "code",
   "execution_count": 26,
   "metadata": {},
   "outputs": [
    {
     "data": {
      "text/plain": [
       "763"
      ]
     },
     "execution_count": 26,
     "metadata": {},
     "output_type": "execute_result"
    }
   ],
   "source": [
    "sum(1 for i in tags if tags[i]>=10)"
   ]
  },
  {
   "cell_type": "code",
   "execution_count": 28,
   "metadata": {},
   "outputs": [],
   "source": [
    "from scipy import sparse as sp"
   ]
  },
  {
   "cell_type": "code",
   "execution_count": 43,
   "metadata": {},
   "outputs": [],
   "source": [
    "tagsls = [ i for i in tags if tags[i]>=10 ]"
   ]
  },
  {
   "cell_type": "code",
   "execution_count": 68,
   "metadata": {},
   "outputs": [],
   "source": [
    "n_docs =cs.execute(\"select count(*) from jugements where lang='fr'\").fetchone()[0]\n",
    "mat = sp.lil_matrix((len(tagsls),n_docs), dtype=bool)"
   ]
  },
  {
   "cell_type": "code",
   "execution_count": 36,
   "metadata": {},
   "outputs": [],
   "source": [
    "from operator import itemgetter\n",
    "import numpy as np"
   ]
  },
  {
   "cell_type": "code",
   "execution_count": 73,
   "metadata": {
    "scrolled": true
   },
   "outputs": [],
   "source": [
    "data = []\n",
    "row = []\n",
    "col = []\n",
    "for doc, ts in cs.execute(\"select rowid, Indexation from jugements where lang='fr'\").fetchall():\n",
    "    for t in ts.split(\";\"):\n",
    "        tt = t.upper().strip()\n",
    "        if tt not in tagsls: continue\n",
    "        data += [True]\n",
    "        row += [tagsls.index(tt)]\n",
    "        col +=[domifs.index(doc)]\n",
    "\n",
    "mat = sp.csr_matrix((data,(row,col)), dtype=bool)"
   ]
  },
  {
   "cell_type": "code",
   "execution_count": 81,
   "metadata": {},
   "outputs": [],
   "source": [
    "def is_parent(c, p):\n",
    "    return np.all(np.logical_or(c, p) == p)"
   ]
  },
  {
   "cell_type": "code",
   "execution_count": 107,
   "metadata": {},
   "outputs": [],
   "source": [
    "def find_parents(row):\n",
    "    c=mat[row]\n",
    "    s = c.sum()\n",
    "    cols = c.nonzero()[1]\n",
    "    return (mat.T[cols].T.sum(axis=1)==s).nonzero()[0]"
   ]
  },
  {
   "cell_type": "code",
   "execution_count": 111,
   "metadata": {},
   "outputs": [
    {
     "data": {
      "text/plain": [
       "array([  3, 745])"
      ]
     },
     "execution_count": 111,
     "metadata": {},
     "output_type": "execute_result"
    }
   ],
   "source": [
    "find_parents(3)"
   ]
  }
 ],
 "metadata": {
  "kernelspec": {
   "display_name": "Python 3",
   "language": "python",
   "name": "python3"
  },
  "language_info": {
   "codemirror_mode": {
    "name": "ipython",
    "version": 3
   },
   "file_extension": ".py",
   "mimetype": "text/x-python",
   "name": "python",
   "nbconvert_exporter": "python",
   "pygments_lexer": "ipython3",
   "version": "3.5.3"
  }
 },
 "nbformat": 4,
 "nbformat_minor": 2
}
