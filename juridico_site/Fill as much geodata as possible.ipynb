{
 "cells": [
  {
   "cell_type": "code",
   "execution_count": 1,
   "metadata": {},
   "outputs": [],
   "source": [
    "from juridico.methodes import cp_dict\n",
    "from juridico.models import *"
   ]
  },
  {
   "cell_type": "code",
   "execution_count": 9,
   "metadata": {},
   "outputs": [],
   "source": [
    "import geopy"
   ]
  },
  {
   "cell_type": "code",
   "execution_count": 10,
   "metadata": {},
   "outputs": [],
   "source": [
    "gl =geopy.GoogleV3()"
   ]
  },
  {
   "cell_type": "code",
   "execution_count": 11,
   "metadata": {},
   "outputs": [
    {
     "data": {
      "text/plain": [
       "Location(2111 Rue Dézéry, Montréal, QC H1W 2S3, Canada, (45.5416795, -73.5489588, 0.0))"
      ]
     },
     "execution_count": 11,
     "metadata": {},
     "output_type": "execute_result"
    }
   ],
   "source": [
    "gl.geocode(\"2111, rue Dézéry, Montréal, Qc\")"
   ]
  },
  {
   "cell_type": "code",
   "execution_count": 12,
   "metadata": {},
   "outputs": [
    {
     "name": "stdout",
     "output_type": "stream",
     "text": [
      "(0) Me Émilie Charette\n",
      "(2) Me Maryse Lapointe\n",
      "(3) Me Max Silverman\n",
      "(4) Me Claude Cousineau\n",
      "(5) Me Andrée Bourbeau\n",
      "(6) Me Jean-Marc Pham\n",
      "(7) Me Anita Martinez\n",
      "(9) Me Miriam McLeod\n",
      "(10) Me Carolina Roa Sanchez\n",
      "(11) Centre de justice de proximité du Grand Montréal\n",
      "(12) Clinique Solutions justes de Montreal\n",
      "(13) Clinique juridique du Mille-end (présence au CAPE)\n",
      "(14) Clinique juridique du Mille-end (Centre communautaire Tyndale St-Georges)\n",
      "(16) Services juridiques communautaires de Pointe-Saint-Charles et Petite-Bourgogne\n",
      "(17) Clinique juridique de l’UQAM\n",
      "(18) Clinique d’information juridique à McGill (CIJM)\n",
      "(20) Clinique d’information juridique du Y des femmes\n",
      "(21) Inform’elle\n",
      "(22) Mouvement action chômage\n",
      "(23) Au bas de l'échelle\n",
      "(24) Centre de recherche-action sur les relations raciales (CRARR)\n",
      "(25) Projet Genèse\n",
      "(26) Bureau Info Logement du Centre éducatif communautaire René-Goupil\n",
      "(27) Action Dignité de Saint-Léonard\n",
      "(28) Association des locataires de Villeray\n",
      "(29) Comité d’action Parc Extension\n",
      "(31) Comité logement Ville-Marie\n",
      "(32) Comité logement de Lachine-Lasalle\n",
      "(33) Comité logement de la Petite Patrie\n",
      "(35) Comité logement du Plateau Mont-Royal\n",
      "(36) Comité logement Saint-Laurent\n",
      "(38) Entraide Logement Hochelaga-Maisonneuve\n",
      "(39) Comité BAILS Hochelaga-Maisonneuve\n",
      "(40) Infologis de l’Est de l’Île de Montréal\n",
      "(41) OEIL Côtes-des-Neiges\n",
      "(43) Regroupement Information Logement de la SOCAM de Pointe-Saint-Charles\n"
     ]
    }
   ],
   "source": [
    "for o in Organisation.objects.filter(latitude=None):\n",
    "    if o.code_postal not in (\"\", None):\n",
    "        if o.code_postal in cp_dict:\n",
    "            long, lat = cp_dict[o.code_postal]\n",
    "            o.latitude = lat\n",
    "            o.longitude = long\n",
    "            print(o)\n",
    "            o.save()"
   ]
  },
  {
   "cell_type": "code",
   "execution_count": 13,
   "metadata": {},
   "outputs": [
    {
     "data": {
      "text/plain": [
       "<QuerySet [<Organisation: (42) POPIR Comité logement (St-Henri)>, <Organisation: (44) Barreau du Québec - Service téléphonique du logement>, <Organisation: (45) Ligne Info-Droit criminel>, <Organisation: (46) Mercredi, j’en parle à mon avocat!>, <Organisation: (47) Barreau du Québec - Service de référence>]>"
      ]
     },
     "execution_count": 13,
     "metadata": {},
     "output_type": "execute_result"
    }
   ],
   "source": [
    "Organisation.objects.filter(latitude=None)"
   ]
  }
 ],
 "metadata": {
  "kernelspec": {
   "display_name": "Django Shell-Plus",
   "language": "python",
   "name": "django_extensions"
  },
  "language_info": {
   "codemirror_mode": {
    "name": "ipython",
    "version": 3
   },
   "file_extension": ".py",
   "mimetype": "text/x-python",
   "name": "python",
   "nbconvert_exporter": "python",
   "pygments_lexer": "ipython3",
   "version": "3.6.4"
  }
 },
 "nbformat": 4,
 "nbformat_minor": 2
}
