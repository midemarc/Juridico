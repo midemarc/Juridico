{
 "cells": [
  {
   "cell_type": "code",
   "execution_count": 1,
   "metadata": {},
   "outputs": [],
   "source": [
    "from gensim.models.doc2vec import Doc2Vec\n",
    "from scipy.spatial.distance import cosine, cdist"
   ]
  },
  {
   "cell_type": "code",
   "execution_count": 2,
   "metadata": {},
   "outputs": [],
   "source": [
    "d2v = Doc2Vec.load(\"educaloi_cappel_d2v.model\")"
   ]
  },
  {
   "cell_type": "code",
   "execution_count": 3,
   "metadata": {},
   "outputs": [],
   "source": [
    "import sqlite3\n",
    "cxn = sqlite3.connect(\"/home/mok/Sync/Projets/Juridico/educaloi.sqlite\")\n",
    "cs = cxn.cursor()"
   ]
  },
  {
   "cell_type": "markdown",
   "metadata": {},
   "source": [
    "# Insérer les articles Éducaloi, automatiquement tagués"
   ]
  },
  {
   "cell_type": "code",
   "execution_count": 4,
   "metadata": {},
   "outputs": [],
   "source": [
    "tags_ls = [o.nom for o in Categorie.objects.all()]"
   ]
  },
  {
   "cell_type": "code",
   "execution_count": 5,
   "metadata": {},
   "outputs": [],
   "source": [
    "tag_names = [ \"TAG_\"+i for i in tags_ls]\n",
    "tag_vecs = [d2v.docvecs[i] for i in tag_names]"
   ]
  },
  {
   "cell_type": "code",
   "execution_count": 6,
   "metadata": {},
   "outputs": [],
   "source": [
    "def get_el_tags(elid, topn=30):\n",
    "    d = cdist([d2v.docvecs[\"EL_%d\"%elid]],tag_vecs)\n",
    "    return [ (i, r[0], r[1][4:]) for i, r in enumerate(sorted(zip(d[0], tag_names))[:topn])]"
   ]
  },
  {
   "cell_type": "code",
   "execution_count": 7,
   "metadata": {},
   "outputs": [],
   "source": [
    "cs.execute(\"select artid, nom, description, cat, url from articles\")\n",
    "for artid, nom, desc, elcat, url in cs.fetchall():\n",
    "    elart = Educaloi.objects.create(\n",
    "        nom=nom,\n",
    "        artid=artid,\n",
    "        description=desc,\n",
    "        url=url,\n",
    "        categorie_educaloi=elcat\n",
    "    )\n",
    "    elart.save()\n",
    "    for rang, dist, categ in get_el_tags(artid):\n",
    "        elartcat = EducaloiCategsPonderees.objects.create(\n",
    "            article=elart,\n",
    "            rang=rang,\n",
    "            distance=dist,\n",
    "            categorie=Categorie.objects.get(nom=categ)\n",
    "        )\n",
    "        elartcat.save()"
   ]
  },
  {
   "cell_type": "code",
   "execution_count": 12,
   "metadata": {},
   "outputs": [],
   "source": [
    "import re\n",
    "import numpy as np\n",
    "is_tag = re.compile(\"^TAG_\")\n",
    "is_el = re.compile(\"^EL_\")\n",
    "is_eyb = re.compile(\"^EYB_\")"
   ]
  },
  {
   "cell_type": "code",
   "execution_count": 28,
   "metadata": {
    "scrolled": true
   },
   "outputs": [
    {
     "data": {
      "text/plain": [
       "array([   0,    1,    2,    3,    4,    5,    6,    7,    9,   10,   12,\n",
       "         13,   14,   15,   16,   17,   19,   20,   21,   22,   23,   24,\n",
       "         25,   26,   27,   29,   30,   31,   32,   33,   34,   35,   36,\n",
       "         37,   39,   40,   41,   42,   43,   45,   46,   47,   48,   49,\n",
       "         50,   52,   53,   54,   56,   57,   58,   59,   61,   63,   64,\n",
       "         66,   67,   68,   69,   70,   71,   72,   73,   74,   75,   76,\n",
       "         78,   79,   81,   83,   84,   85,   86,   87,   89,   90,   91,\n",
       "         92,   94,   95,   97,   98,   99,  100,  101,  102,  104,  106,\n",
       "        108,  109,  110,  112,  113,  114,  115,  117,  118,  119,  121,\n",
       "        123,  124,  125,  126,  128,  129,  130,  131,  133,  134,  136,\n",
       "        137,  138,  140,  141,  142,  143,  144,  145,  147,  149,  150,\n",
       "        151,  152,  154,  156,  157,  158,  160,  162,  163,  164,  166,\n",
       "        167,  169,  170,  171,  172,  175,  176,  177,  178,  179,  180,\n",
       "        182,  183,  185,  186,  187,  188,  189,  192,  193,  194,  196,\n",
       "        197,  198,  199,  201,  202,  203,  204,  205,  206,  207,  208,\n",
       "        209,  210,  211,  213,  214,  215,  216,  219,  220,  222,  223,\n",
       "        224,  226,  227,  228,  229,  230,  232,  233,  235,  236,  237,\n",
       "        239,  240,  241,  243,  245,  246,  247,  248,  249,  252,  254,\n",
       "        255,  257,  258,  260,  261,  263,  266,  267,  268,  269,  270,\n",
       "        273,  275,  277,  278,  279,  281,  282,  284,  286,  287,  288,\n",
       "        290,  291,  292,  293,  294,  296,  297,  299,  300,  302,  303,\n",
       "        305,  306,  307,  309,  310,  311,  312,  313,  317,  318,  319,\n",
       "        321,  323,  324,  325,  327,  328,  329,  330,  331,  334,  335,\n",
       "        336,  337,  338,  339,  342,  344,  345,  347,  348,  349,  350,\n",
       "        351,  352,  353,  354,  355,  357,  359,  361,  362,  363,  364,\n",
       "        365,  366,  370,  371,  373,  375,  377,  378,  380,  381,  383,\n",
       "        385,  386,  387,  389,  390,  393,  395,  396,  398,  399,  400,\n",
       "        403,  406,  410,  411,  412,  413,  414,  416,  417,  420,  423,\n",
       "        425,  427,  430,  432,  433,  434,  436,  437,  440,  441,  443,\n",
       "        445,  447,  448,  451,  452,  455,  456,  459,  461,  462,  463,\n",
       "        464,  465,  467,  469,  470,  473,  474,  475,  477,  479,  480,\n",
       "        481,  482,  483,  485,  486,  489,  490,  492,  496,  498,  500,\n",
       "        501,  502,  503,  505,  506,  509,  510,  513,  516,  519,  520,\n",
       "        521,  522,  527,  528,  530,  532,  533,  535,  537,  540,  541,\n",
       "        542,  544,  546,  548,  549,  551,  553,  554,  556,  559,  561,\n",
       "        562,  563,  565,  568,  570,  571,  572,  573,  574,  576,  578,\n",
       "        583,  584,  586,  588,  589,  590,  591,  593,  594,  596,  597,\n",
       "        602,  606,  607,  608,  609,  610,  611,  613,  615,  616,  617,\n",
       "        621,  623,  624,  629,  630,  632,  637,  639,  640,  641,  643,\n",
       "        644,  646,  647,  648,  649,  652,  658,  669,  671,  673,  675,\n",
       "        676,  678,  679,  681,  683,  684,  685,  688,  689,  694,  697,\n",
       "        698,  700,  701,  705,  710,  711,  712,  717,  718,  720,  722,\n",
       "        724,  725,  728,  729,  730,  731,  733,  734,  736,  738,  743,\n",
       "        744,  746,  747,  748,  749,  750,  755,  756,  758,  760,  766,\n",
       "        769,  771,  772,  777,  778,  780,  781,  783,  788,  789,  790,\n",
       "        792,  793,  794,  795,  796,  797,  800,  802,  803,  806,  808,\n",
       "        810,  815,  817,  823,  828,  831,  835,  836,  837,  839,  846,\n",
       "        847,  856,  862,  863,  866,  867,  870,  871,  872,  874,  884,\n",
       "        887,  888,  891,  897,  899,  903,  907,  909,  910,  912,  916,\n",
       "        921,  922,  923,  925,  929,  934,  938,  939,  941,  942,  951,\n",
       "        952,  954,  955,  958,  968,  972,  974,  976,  980,  984,  987,\n",
       "        997, 1006, 1010, 1015, 1016, 1031, 1032, 1037, 1040, 1043, 1047,\n",
       "       1053, 1054, 1056, 1060, 1064, 1069, 1072, 1074, 1079, 1084, 1086,\n",
       "       1087, 1089, 1093, 1095, 1100, 1102, 1111, 1113, 1118, 1127, 1131,\n",
       "       1138, 1140, 1142, 1146, 1148, 1149, 1152, 1156, 1157, 1168, 1174,\n",
       "       1179, 1190, 1193, 1194, 1199, 1200, 1202, 1206, 1216, 1217, 1223,\n",
       "       1227, 1228, 1230, 1236, 1239, 1261, 1269, 1272, 1279, 1314, 1316,\n",
       "       1318, 1323, 1331, 1333, 1334, 1342, 1343, 1347, 1355, 1359, 1368,\n",
       "       1374, 1380, 1390, 1392, 1401, 1413, 1417, 1428, 1448, 1455, 1458,\n",
       "       1468, 1475, 1478, 1479, 1481, 1509, 1516, 1533, 1534, 1545, 1566,\n",
       "       1571, 1574, 1588, 1599, 1653, 1684, 1699, 1701, 1703, 1707, 1715,\n",
       "       1743, 1746, 1751, 1771, 1773, 1796, 1797, 1811, 1876, 1894, 1901,\n",
       "       1902, 2047, 2081, 2082, 2119, 2120, 2121, 2276, 2308, 2323, 2358,\n",
       "       2363, 2366, 2414, 2441, 2719, 2773, 2814, 3146, 3212, 3271, 3357,\n",
       "       3871])"
      ]
     },
     "execution_count": 28,
     "metadata": {},
     "output_type": "execute_result"
    }
   ],
   "source": [
    "np.nonzero(np.fromiter((is_tag.match(i) !=None for i in d2v.docvecs.index2entity), dtype=bool))[0]"
   ]
  },
  {
   "cell_type": "code",
   "execution_count": 32,
   "metadata": {},
   "outputs": [
    {
     "data": {
      "text/plain": [
       "(2, 100)"
      ]
     },
     "execution_count": 32,
     "metadata": {},
     "output_type": "execute_result"
    }
   ],
   "source": [
    "d2v.docvecs.vectors_docs[np.array((1,2))].shape"
   ]
  },
  {
   "cell_type": "code",
   "execution_count": 33,
   "metadata": {},
   "outputs": [],
   "source": [
    "cdist?"
   ]
  }
 ],
 "metadata": {
  "kernelspec": {
   "display_name": "Django Shell-Plus",
   "language": "python",
   "name": "django_extensions"
  },
  "language_info": {
   "codemirror_mode": {
    "name": "ipython",
    "version": 3
   },
   "file_extension": ".py",
   "mimetype": "text/x-python",
   "name": "python",
   "nbconvert_exporter": "python",
   "pygments_lexer": "ipython3",
   "version": "3.6.4"
  }
 },
 "nbformat": 4,
 "nbformat_minor": 2
}
